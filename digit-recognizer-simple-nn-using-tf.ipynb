{
 "cells": [
  {
   "cell_type": "markdown",
   "id": "c7331215",
   "metadata": {
    "papermill": {
     "duration": 0.015264,
     "end_time": "2024-04-24T17:31:40.034419",
     "exception": false,
     "start_time": "2024-04-24T17:31:40.019155",
     "status": "completed"
    },
    "tags": []
   },
   "source": [
    "# 1-Explore the Data  "
   ]
  },
  {
   "cell_type": "code",
   "execution_count": 1,
   "id": "6367056e",
   "metadata": {
    "_cell_guid": "b1076dfc-b9ad-4769-8c92-a6c4dae69d19",
    "_uuid": "8f2839f25d086af736a60e9eeb907d3b93b6e0e5",
    "execution": {
     "iopub.execute_input": "2024-04-24T17:31:40.062203Z",
     "iopub.status.busy": "2024-04-24T17:31:40.060963Z",
     "iopub.status.idle": "2024-04-24T17:31:41.388015Z",
     "shell.execute_reply": "2024-04-24T17:31:41.386519Z"
    },
    "papermill": {
     "duration": 1.345092,
     "end_time": "2024-04-24T17:31:41.391808",
     "exception": false,
     "start_time": "2024-04-24T17:31:40.046716",
     "status": "completed"
    },
    "tags": []
   },
   "outputs": [],
   "source": [
    "import pandas as pd\n",
    "import numpy as np "
   ]
  },
  {
   "cell_type": "code",
   "execution_count": 2,
   "id": "0eefc595",
   "metadata": {
    "execution": {
     "iopub.execute_input": "2024-04-24T17:31:41.417267Z",
     "iopub.status.busy": "2024-04-24T17:31:41.416672Z",
     "iopub.status.idle": "2024-04-24T17:31:46.227615Z",
     "shell.execute_reply": "2024-04-24T17:31:46.226145Z"
    },
    "papermill": {
     "duration": 4.827577,
     "end_time": "2024-04-24T17:31:46.230903",
     "exception": false,
     "start_time": "2024-04-24T17:31:41.403326",
     "status": "completed"
    },
    "tags": []
   },
   "outputs": [],
   "source": [
    "train = pd.read_csv('/kaggle/input/digit-recognizer/train.csv')"
   ]
  },
  {
   "cell_type": "code",
   "execution_count": 3,
   "id": "057a4a5c",
   "metadata": {
    "execution": {
     "iopub.execute_input": "2024-04-24T17:31:46.255478Z",
     "iopub.status.busy": "2024-04-24T17:31:46.254857Z",
     "iopub.status.idle": "2024-04-24T17:31:46.261630Z",
     "shell.execute_reply": "2024-04-24T17:31:46.259821Z"
    },
    "papermill": {
     "duration": 0.022488,
     "end_time": "2024-04-24T17:31:46.264600",
     "exception": false,
     "start_time": "2024-04-24T17:31:46.242112",
     "status": "completed"
    },
    "tags": []
   },
   "outputs": [
    {
     "name": "stdout",
     "output_type": "stream",
     "text": [
      "(42000, 785)\n"
     ]
    }
   ],
   "source": [
    "print(train.shape)"
   ]
  },
  {
   "cell_type": "code",
   "execution_count": 4,
   "id": "7f544236",
   "metadata": {
    "execution": {
     "iopub.execute_input": "2024-04-24T17:31:46.288636Z",
     "iopub.status.busy": "2024-04-24T17:31:46.287578Z",
     "iopub.status.idle": "2024-04-24T17:31:46.326488Z",
     "shell.execute_reply": "2024-04-24T17:31:46.324866Z"
    },
    "papermill": {
     "duration": 0.054526,
     "end_time": "2024-04-24T17:31:46.329747",
     "exception": false,
     "start_time": "2024-04-24T17:31:46.275221",
     "status": "completed"
    },
    "tags": []
   },
   "outputs": [
    {
     "data": {
      "text/html": [
       "<div>\n",
       "<style scoped>\n",
       "    .dataframe tbody tr th:only-of-type {\n",
       "        vertical-align: middle;\n",
       "    }\n",
       "\n",
       "    .dataframe tbody tr th {\n",
       "        vertical-align: top;\n",
       "    }\n",
       "\n",
       "    .dataframe thead th {\n",
       "        text-align: right;\n",
       "    }\n",
       "</style>\n",
       "<table border=\"1\" class=\"dataframe\">\n",
       "  <thead>\n",
       "    <tr style=\"text-align: right;\">\n",
       "      <th></th>\n",
       "      <th>label</th>\n",
       "      <th>pixel0</th>\n",
       "      <th>pixel1</th>\n",
       "      <th>pixel2</th>\n",
       "      <th>pixel3</th>\n",
       "      <th>pixel4</th>\n",
       "      <th>pixel5</th>\n",
       "      <th>pixel6</th>\n",
       "      <th>pixel7</th>\n",
       "      <th>pixel8</th>\n",
       "      <th>...</th>\n",
       "      <th>pixel774</th>\n",
       "      <th>pixel775</th>\n",
       "      <th>pixel776</th>\n",
       "      <th>pixel777</th>\n",
       "      <th>pixel778</th>\n",
       "      <th>pixel779</th>\n",
       "      <th>pixel780</th>\n",
       "      <th>pixel781</th>\n",
       "      <th>pixel782</th>\n",
       "      <th>pixel783</th>\n",
       "    </tr>\n",
       "  </thead>\n",
       "  <tbody>\n",
       "    <tr>\n",
       "      <th>0</th>\n",
       "      <td>1</td>\n",
       "      <td>0</td>\n",
       "      <td>0</td>\n",
       "      <td>0</td>\n",
       "      <td>0</td>\n",
       "      <td>0</td>\n",
       "      <td>0</td>\n",
       "      <td>0</td>\n",
       "      <td>0</td>\n",
       "      <td>0</td>\n",
       "      <td>...</td>\n",
       "      <td>0</td>\n",
       "      <td>0</td>\n",
       "      <td>0</td>\n",
       "      <td>0</td>\n",
       "      <td>0</td>\n",
       "      <td>0</td>\n",
       "      <td>0</td>\n",
       "      <td>0</td>\n",
       "      <td>0</td>\n",
       "      <td>0</td>\n",
       "    </tr>\n",
       "    <tr>\n",
       "      <th>1</th>\n",
       "      <td>0</td>\n",
       "      <td>0</td>\n",
       "      <td>0</td>\n",
       "      <td>0</td>\n",
       "      <td>0</td>\n",
       "      <td>0</td>\n",
       "      <td>0</td>\n",
       "      <td>0</td>\n",
       "      <td>0</td>\n",
       "      <td>0</td>\n",
       "      <td>...</td>\n",
       "      <td>0</td>\n",
       "      <td>0</td>\n",
       "      <td>0</td>\n",
       "      <td>0</td>\n",
       "      <td>0</td>\n",
       "      <td>0</td>\n",
       "      <td>0</td>\n",
       "      <td>0</td>\n",
       "      <td>0</td>\n",
       "      <td>0</td>\n",
       "    </tr>\n",
       "    <tr>\n",
       "      <th>2</th>\n",
       "      <td>1</td>\n",
       "      <td>0</td>\n",
       "      <td>0</td>\n",
       "      <td>0</td>\n",
       "      <td>0</td>\n",
       "      <td>0</td>\n",
       "      <td>0</td>\n",
       "      <td>0</td>\n",
       "      <td>0</td>\n",
       "      <td>0</td>\n",
       "      <td>...</td>\n",
       "      <td>0</td>\n",
       "      <td>0</td>\n",
       "      <td>0</td>\n",
       "      <td>0</td>\n",
       "      <td>0</td>\n",
       "      <td>0</td>\n",
       "      <td>0</td>\n",
       "      <td>0</td>\n",
       "      <td>0</td>\n",
       "      <td>0</td>\n",
       "    </tr>\n",
       "    <tr>\n",
       "      <th>3</th>\n",
       "      <td>4</td>\n",
       "      <td>0</td>\n",
       "      <td>0</td>\n",
       "      <td>0</td>\n",
       "      <td>0</td>\n",
       "      <td>0</td>\n",
       "      <td>0</td>\n",
       "      <td>0</td>\n",
       "      <td>0</td>\n",
       "      <td>0</td>\n",
       "      <td>...</td>\n",
       "      <td>0</td>\n",
       "      <td>0</td>\n",
       "      <td>0</td>\n",
       "      <td>0</td>\n",
       "      <td>0</td>\n",
       "      <td>0</td>\n",
       "      <td>0</td>\n",
       "      <td>0</td>\n",
       "      <td>0</td>\n",
       "      <td>0</td>\n",
       "    </tr>\n",
       "    <tr>\n",
       "      <th>4</th>\n",
       "      <td>0</td>\n",
       "      <td>0</td>\n",
       "      <td>0</td>\n",
       "      <td>0</td>\n",
       "      <td>0</td>\n",
       "      <td>0</td>\n",
       "      <td>0</td>\n",
       "      <td>0</td>\n",
       "      <td>0</td>\n",
       "      <td>0</td>\n",
       "      <td>...</td>\n",
       "      <td>0</td>\n",
       "      <td>0</td>\n",
       "      <td>0</td>\n",
       "      <td>0</td>\n",
       "      <td>0</td>\n",
       "      <td>0</td>\n",
       "      <td>0</td>\n",
       "      <td>0</td>\n",
       "      <td>0</td>\n",
       "      <td>0</td>\n",
       "    </tr>\n",
       "    <tr>\n",
       "      <th>5</th>\n",
       "      <td>0</td>\n",
       "      <td>0</td>\n",
       "      <td>0</td>\n",
       "      <td>0</td>\n",
       "      <td>0</td>\n",
       "      <td>0</td>\n",
       "      <td>0</td>\n",
       "      <td>0</td>\n",
       "      <td>0</td>\n",
       "      <td>0</td>\n",
       "      <td>...</td>\n",
       "      <td>0</td>\n",
       "      <td>0</td>\n",
       "      <td>0</td>\n",
       "      <td>0</td>\n",
       "      <td>0</td>\n",
       "      <td>0</td>\n",
       "      <td>0</td>\n",
       "      <td>0</td>\n",
       "      <td>0</td>\n",
       "      <td>0</td>\n",
       "    </tr>\n",
       "    <tr>\n",
       "      <th>6</th>\n",
       "      <td>7</td>\n",
       "      <td>0</td>\n",
       "      <td>0</td>\n",
       "      <td>0</td>\n",
       "      <td>0</td>\n",
       "      <td>0</td>\n",
       "      <td>0</td>\n",
       "      <td>0</td>\n",
       "      <td>0</td>\n",
       "      <td>0</td>\n",
       "      <td>...</td>\n",
       "      <td>0</td>\n",
       "      <td>0</td>\n",
       "      <td>0</td>\n",
       "      <td>0</td>\n",
       "      <td>0</td>\n",
       "      <td>0</td>\n",
       "      <td>0</td>\n",
       "      <td>0</td>\n",
       "      <td>0</td>\n",
       "      <td>0</td>\n",
       "    </tr>\n",
       "    <tr>\n",
       "      <th>7</th>\n",
       "      <td>3</td>\n",
       "      <td>0</td>\n",
       "      <td>0</td>\n",
       "      <td>0</td>\n",
       "      <td>0</td>\n",
       "      <td>0</td>\n",
       "      <td>0</td>\n",
       "      <td>0</td>\n",
       "      <td>0</td>\n",
       "      <td>0</td>\n",
       "      <td>...</td>\n",
       "      <td>0</td>\n",
       "      <td>0</td>\n",
       "      <td>0</td>\n",
       "      <td>0</td>\n",
       "      <td>0</td>\n",
       "      <td>0</td>\n",
       "      <td>0</td>\n",
       "      <td>0</td>\n",
       "      <td>0</td>\n",
       "      <td>0</td>\n",
       "    </tr>\n",
       "    <tr>\n",
       "      <th>8</th>\n",
       "      <td>5</td>\n",
       "      <td>0</td>\n",
       "      <td>0</td>\n",
       "      <td>0</td>\n",
       "      <td>0</td>\n",
       "      <td>0</td>\n",
       "      <td>0</td>\n",
       "      <td>0</td>\n",
       "      <td>0</td>\n",
       "      <td>0</td>\n",
       "      <td>...</td>\n",
       "      <td>0</td>\n",
       "      <td>0</td>\n",
       "      <td>0</td>\n",
       "      <td>0</td>\n",
       "      <td>0</td>\n",
       "      <td>0</td>\n",
       "      <td>0</td>\n",
       "      <td>0</td>\n",
       "      <td>0</td>\n",
       "      <td>0</td>\n",
       "    </tr>\n",
       "    <tr>\n",
       "      <th>9</th>\n",
       "      <td>3</td>\n",
       "      <td>0</td>\n",
       "      <td>0</td>\n",
       "      <td>0</td>\n",
       "      <td>0</td>\n",
       "      <td>0</td>\n",
       "      <td>0</td>\n",
       "      <td>0</td>\n",
       "      <td>0</td>\n",
       "      <td>0</td>\n",
       "      <td>...</td>\n",
       "      <td>0</td>\n",
       "      <td>0</td>\n",
       "      <td>0</td>\n",
       "      <td>0</td>\n",
       "      <td>0</td>\n",
       "      <td>0</td>\n",
       "      <td>0</td>\n",
       "      <td>0</td>\n",
       "      <td>0</td>\n",
       "      <td>0</td>\n",
       "    </tr>\n",
       "  </tbody>\n",
       "</table>\n",
       "<p>10 rows × 785 columns</p>\n",
       "</div>"
      ],
      "text/plain": [
       "   label  pixel0  pixel1  pixel2  pixel3  pixel4  pixel5  pixel6  pixel7  \\\n",
       "0      1       0       0       0       0       0       0       0       0   \n",
       "1      0       0       0       0       0       0       0       0       0   \n",
       "2      1       0       0       0       0       0       0       0       0   \n",
       "3      4       0       0       0       0       0       0       0       0   \n",
       "4      0       0       0       0       0       0       0       0       0   \n",
       "5      0       0       0       0       0       0       0       0       0   \n",
       "6      7       0       0       0       0       0       0       0       0   \n",
       "7      3       0       0       0       0       0       0       0       0   \n",
       "8      5       0       0       0       0       0       0       0       0   \n",
       "9      3       0       0       0       0       0       0       0       0   \n",
       "\n",
       "   pixel8  ...  pixel774  pixel775  pixel776  pixel777  pixel778  pixel779  \\\n",
       "0       0  ...         0         0         0         0         0         0   \n",
       "1       0  ...         0         0         0         0         0         0   \n",
       "2       0  ...         0         0         0         0         0         0   \n",
       "3       0  ...         0         0         0         0         0         0   \n",
       "4       0  ...         0         0         0         0         0         0   \n",
       "5       0  ...         0         0         0         0         0         0   \n",
       "6       0  ...         0         0         0         0         0         0   \n",
       "7       0  ...         0         0         0         0         0         0   \n",
       "8       0  ...         0         0         0         0         0         0   \n",
       "9       0  ...         0         0         0         0         0         0   \n",
       "\n",
       "   pixel780  pixel781  pixel782  pixel783  \n",
       "0         0         0         0         0  \n",
       "1         0         0         0         0  \n",
       "2         0         0         0         0  \n",
       "3         0         0         0         0  \n",
       "4         0         0         0         0  \n",
       "5         0         0         0         0  \n",
       "6         0         0         0         0  \n",
       "7         0         0         0         0  \n",
       "8         0         0         0         0  \n",
       "9         0         0         0         0  \n",
       "\n",
       "[10 rows x 785 columns]"
      ]
     },
     "execution_count": 4,
     "metadata": {},
     "output_type": "execute_result"
    }
   ],
   "source": [
    "train.head(10)"
   ]
  },
  {
   "cell_type": "code",
   "execution_count": 5,
   "id": "c3551314",
   "metadata": {
    "execution": {
     "iopub.execute_input": "2024-04-24T17:31:46.355888Z",
     "iopub.status.busy": "2024-04-24T17:31:46.355459Z",
     "iopub.status.idle": "2024-04-24T17:31:48.462253Z",
     "shell.execute_reply": "2024-04-24T17:31:48.460349Z"
    },
    "papermill": {
     "duration": 2.124764,
     "end_time": "2024-04-24T17:31:48.466054",
     "exception": false,
     "start_time": "2024-04-24T17:31:46.341290",
     "status": "completed"
    },
    "tags": []
   },
   "outputs": [],
   "source": [
    "#Splitting the Data \n",
    "from sklearn.model_selection import train_test_split\n",
    "\n",
    "x = train.iloc[0:42000,1:]\n",
    "y = train.iloc[0:42000,:1]\n",
    "\n",
    "x_train, x_test, y_train, y_test = train_test_split(x , y , test_size=0.1, random_state=42)"
   ]
  },
  {
   "cell_type": "code",
   "execution_count": 6,
   "id": "2950c342",
   "metadata": {
    "execution": {
     "iopub.execute_input": "2024-04-24T17:31:48.497620Z",
     "iopub.status.busy": "2024-04-24T17:31:48.496872Z",
     "iopub.status.idle": "2024-04-24T17:31:48.505479Z",
     "shell.execute_reply": "2024-04-24T17:31:48.503405Z"
    },
    "papermill": {
     "duration": 0.030891,
     "end_time": "2024-04-24T17:31:48.510179",
     "exception": false,
     "start_time": "2024-04-24T17:31:48.479288",
     "status": "completed"
    },
    "tags": []
   },
   "outputs": [
    {
     "name": "stdout",
     "output_type": "stream",
     "text": [
      "(37800, 784)\n",
      "(4200, 784)\n",
      "(37800, 1)\n",
      "(4200, 1)\n"
     ]
    }
   ],
   "source": [
    "print(x_train.shape)\n",
    "print(x_test.shape)\n",
    "print(y_train.shape)\n",
    "print(y_test.shape)"
   ]
  },
  {
   "cell_type": "markdown",
   "id": "5200720d",
   "metadata": {
    "papermill": {
     "duration": 0.012576,
     "end_time": "2024-04-24T17:31:48.537681",
     "exception": false,
     "start_time": "2024-04-24T17:31:48.525105",
     "status": "completed"
    },
    "tags": []
   },
   "source": [
    "# 2-Data Visualizations"
   ]
  },
  {
   "cell_type": "code",
   "execution_count": 7,
   "id": "46169dc7",
   "metadata": {
    "execution": {
     "iopub.execute_input": "2024-04-24T17:31:48.567071Z",
     "iopub.status.busy": "2024-04-24T17:31:48.566611Z",
     "iopub.status.idle": "2024-04-24T17:31:48.573997Z",
     "shell.execute_reply": "2024-04-24T17:31:48.571879Z"
    },
    "papermill": {
     "duration": 0.027756,
     "end_time": "2024-04-24T17:31:48.578046",
     "exception": false,
     "start_time": "2024-04-24T17:31:48.550290",
     "status": "completed"
    },
    "tags": []
   },
   "outputs": [],
   "source": [
    "import matplotlib.pyplot as plt \n",
    "import warnings\n",
    "warnings.filterwarnings('ignore')"
   ]
  },
  {
   "cell_type": "code",
   "execution_count": 8,
   "id": "8bcdfd92",
   "metadata": {
    "execution": {
     "iopub.execute_input": "2024-04-24T17:31:48.608314Z",
     "iopub.status.busy": "2024-04-24T17:31:48.607214Z",
     "iopub.status.idle": "2024-04-24T17:31:49.037114Z",
     "shell.execute_reply": "2024-04-24T17:31:49.035246Z"
    },
    "papermill": {
     "duration": 0.449612,
     "end_time": "2024-04-24T17:31:49.040270",
     "exception": false,
     "start_time": "2024-04-24T17:31:48.590658",
     "status": "completed"
    },
    "tags": []
   },
   "outputs": [
    {
     "data": {
      "text/plain": [
       "Text(0, 0.5, 'Frequency')"
      ]
     },
     "execution_count": 8,
     "metadata": {},
     "output_type": "execute_result"
    },
    {
     "data": {
      "image/png": "[encoded data removed]",
      "text/plain": [
       "<Figure size 640x480 with 1 Axes>"
      ]
     },
     "metadata": {},
     "output_type": "display_data"
    }
   ],
   "source": [
    "plt.hist(train[\"label\"])\n",
    "plt.title(\"Frequency Histogram of Numbers in Training Data\")\n",
    "plt.xlabel(\"Number Value\")\n",
    "plt.ylabel(\"Frequency\")"
   ]
  },
  {
   "cell_type": "code",
   "execution_count": 9,
   "id": "c490831b",
   "metadata": {
    "execution": {
     "iopub.execute_input": "2024-04-24T17:31:49.066864Z",
     "iopub.status.busy": "2024-04-24T17:31:49.066361Z",
     "iopub.status.idle": "2024-04-24T17:31:49.498859Z",
     "shell.execute_reply": "2024-04-24T17:31:49.496578Z"
    },
    "papermill": {
     "duration": 0.449552,
     "end_time": "2024-04-24T17:31:49.501972",
     "exception": false,
     "start_time": "2024-04-24T17:31:49.052420",
     "status": "completed"
    },
    "tags": []
   },
   "outputs": [
    {
     "data": {
      "image/png": "[encoded data removed]",
      "text/plain": [
       "<Figure size 640x480 with 1 Axes>"
      ]
     },
     "metadata": {},
     "output_type": "display_data"
    }
   ],
   "source": [
    "def display(i):\n",
    "    img = x.iloc[i].values\n",
    "    img =img.reshape((28, 28))\n",
    "    plt.imshow(img)                  # cmap='gray' ---> grayscale image\n",
    "    plt.title(y.iloc[i,0])\n",
    "    \n",
    "display(20)"
   ]
  },
  {
   "cell_type": "code",
   "execution_count": 10,
   "id": "41fec996",
   "metadata": {
    "execution": {
     "iopub.execute_input": "2024-04-24T17:31:49.532600Z",
     "iopub.status.busy": "2024-04-24T17:31:49.532092Z",
     "iopub.status.idle": "2024-04-24T17:31:51.448227Z",
     "shell.execute_reply": "2024-04-24T17:31:51.446442Z"
    },
    "papermill": {
     "duration": 1.936571,
     "end_time": "2024-04-24T17:31:51.451727",
     "exception": false,
     "start_time": "2024-04-24T17:31:49.515156",
     "status": "completed"
    },
    "tags": []
   },
   "outputs": [
    {
     "data": {
      "image/png": "[encoded data removed]",
      "text/plain": [
       "<Figure size 1000x400 with 10 Axes>"
      ]
     },
     "metadata": {},
     "output_type": "display_data"
    }
   ],
   "source": [
    "num = 10\n",
    "num_row = 2\n",
    "num_col = 5\n",
    "\n",
    "# plot images\n",
    "fig, axes = plt.subplots(num_row, num_col, figsize=(2*num_col,2*num_row))\n",
    "for i in range(num):\n",
    "    ax  = axes[i//num_col, i%num_col]\n",
    "    img = x.iloc[i].values\n",
    "    img = img.reshape((28, 28))\n",
    "    ax.imshow(img, cmap='gray')\n",
    "    ax.set_title(\"label: %i\" % y.iloc[i,0] )\n",
    "    \n",
    "     \n",
    "plt.tight_layout()\n",
    "plt.show()"
   ]
  },
  {
   "cell_type": "markdown",
   "id": "c2f87030",
   "metadata": {
    "papermill": {
     "duration": 0.015482,
     "end_time": "2024-04-24T17:31:51.482147",
     "exception": false,
     "start_time": "2024-04-24T17:31:51.466665",
     "status": "completed"
    },
    "tags": []
   },
   "source": [
    "# 3-Model"
   ]
  },
  {
   "cell_type": "code",
   "execution_count": 11,
   "id": "f3c50419",
   "metadata": {
    "execution": {
     "iopub.execute_input": "2024-04-24T17:31:51.514295Z",
     "iopub.status.busy": "2024-04-24T17:31:51.513760Z",
     "iopub.status.idle": "2024-04-24T17:32:09.399176Z",
     "shell.execute_reply": "2024-04-24T17:32:09.397482Z"
    },
    "papermill": {
     "duration": 17.905092,
     "end_time": "2024-04-24T17:32:09.402842",
     "exception": false,
     "start_time": "2024-04-24T17:31:51.497750",
     "status": "completed"
    },
    "tags": []
   },
   "outputs": [
    {
     "name": "stderr",
     "output_type": "stream",
     "text": [
      "2024-04-24 17:31:54.624471: E external/local_xla/xla/stream_executor/cuda/cuda_dnn.cc:9261] Unable to register cuDNN factory: Attempting to register factory for plugin cuDNN when one has already been registered\n",
      "2024-04-24 17:31:54.624633: E external/local_xla/xla/stream_executor/cuda/cuda_fft.cc:607] Unable to register cuFFT factory: Attempting to register factory for plugin cuFFT when one has already been registered\n",
      "2024-04-24 17:31:54.832950: E external/local_xla/xla/stream_executor/cuda/cuda_blas.cc:1515] Unable to register cuBLAS factory: Attempting to register factory for plugin cuBLAS when one has already been registered\n"
     ]
    }
   ],
   "source": [
    "import tensorflow as tf\n",
    "from tensorflow.keras.models import Sequential\n",
    "from tensorflow.keras.layers import Dense\n",
    "from tensorflow.keras.activations import relu, softmax\n"
   ]
  },
  {
   "cell_type": "code",
   "execution_count": 12,
   "id": "48915d28",
   "metadata": {
    "execution": {
     "iopub.execute_input": "2024-04-24T17:32:09.436430Z",
     "iopub.status.busy": "2024-04-24T17:32:09.435262Z",
     "iopub.status.idle": "2024-04-24T17:32:10.296977Z",
     "shell.execute_reply": "2024-04-24T17:32:10.295499Z"
    },
    "papermill": {
     "duration": 0.883599,
     "end_time": "2024-04-24T17:32:10.300646",
     "exception": false,
     "start_time": "2024-04-24T17:32:09.417047",
     "status": "completed"
    },
    "tags": []
   },
   "outputs": [],
   "source": [
    "#Normalize the Data\n",
    "\n",
    "x_train = tf.keras.utils.normalize(x_train,axis=1)\n",
    "x_test = tf.keras.utils.normalize(x_test,axis=1)"
   ]
  },
  {
   "cell_type": "code",
   "execution_count": 13,
   "id": "73b77896",
   "metadata": {
    "execution": {
     "iopub.execute_input": "2024-04-24T17:32:10.330389Z",
     "iopub.status.busy": "2024-04-24T17:32:10.329903Z",
     "iopub.status.idle": "2024-04-24T17:34:42.941205Z",
     "shell.execute_reply": "2024-04-24T17:34:42.939501Z"
    },
    "papermill": {
     "duration": 152.63035,
     "end_time": "2024-04-24T17:34:42.944593",
     "exception": false,
     "start_time": "2024-04-24T17:32:10.314243",
     "status": "completed"
    },
    "tags": []
   },
   "outputs": [
    {
     "name": "stdout",
     "output_type": "stream",
     "text": [
      "Epoch 1/30\n",
      "\u001b[1m827/827\u001b[0m \u001b[32m━━━━━━━━━━━━━━━━━━━━\u001b[0m\u001b[37m\u001b[0m \u001b[1m6s\u001b[0m 6ms/step - accuracy: 0.7832 - loss: 0.8520 - val_accuracy: 0.9257 - val_loss: 0.2524\n",
      "Epoch 2/30\n",
      "\u001b[1m827/827\u001b[0m \u001b[32m━━━━━━━━━━━━━━━━━━━━\u001b[0m\u001b[37m\u001b[0m \u001b[1m5s\u001b[0m 6ms/step - accuracy: 0.9286 - loss: 0.2265 - val_accuracy: 0.9447 - val_loss: 0.1855\n",
      "Epoch 3/30\n",
      "\u001b[1m827/827\u001b[0m \u001b[32m━━━━━━━━━━━━━━━━━━━━\u001b[0m\u001b[37m\u001b[0m \u001b[1m4s\u001b[0m 5ms/step - accuracy: 0.9521 - loss: 0.1537 - val_accuracy: 0.9585 - val_loss: 0.1431\n",
      "Epoch 4/30\n",
      "\u001b[1m827/827\u001b[0m \u001b[32m━━━━━━━━━━━━━━━━━━━━\u001b[0m\u001b[37m\u001b[0m \u001b[1m5s\u001b[0m 5ms/step - accuracy: 0.9632 - loss: 0.1166 - val_accuracy: 0.9616 - val_loss: 0.1295\n",
      "Epoch 5/30\n",
      "\u001b[1m827/827\u001b[0m \u001b[32m━━━━━━━━━━━━━━━━━━━━\u001b[0m\u001b[37m\u001b[0m \u001b[1m4s\u001b[0m 5ms/step - accuracy: 0.9723 - loss: 0.0917 - val_accuracy: 0.9620 - val_loss: 0.1241\n",
      "Epoch 6/30\n",
      "\u001b[1m827/827\u001b[0m \u001b[32m━━━━━━━━━━━━━━━━━━━━\u001b[0m\u001b[37m\u001b[0m \u001b[1m5s\u001b[0m 6ms/step - accuracy: 0.9787 - loss: 0.0683 - val_accuracy: 0.9609 - val_loss: 0.1270\n",
      "Epoch 7/30\n",
      "\u001b[1m827/827\u001b[0m \u001b[32m━━━━━━━━━━━━━━━━━━━━\u001b[0m\u001b[37m\u001b[0m \u001b[1m6s\u001b[0m 7ms/step - accuracy: 0.9807 - loss: 0.0581 - val_accuracy: 0.9660 - val_loss: 0.1135\n",
      "Epoch 8/30\n",
      "\u001b[1m827/827\u001b[0m \u001b[32m━━━━━━━━━━━━━━━━━━━━\u001b[0m\u001b[37m\u001b[0m \u001b[1m9s\u001b[0m 6ms/step - accuracy: 0.9861 - loss: 0.0470 - val_accuracy: 0.9680 - val_loss: 0.1086\n",
      "Epoch 9/30\n",
      "\u001b[1m827/827\u001b[0m \u001b[32m━━━━━━━━━━━━━━━━━━━━\u001b[0m\u001b[37m\u001b[0m \u001b[1m5s\u001b[0m 6ms/step - accuracy: 0.9901 - loss: 0.0348 - val_accuracy: 0.9709 - val_loss: 0.1071\n",
      "Epoch 10/30\n",
      "\u001b[1m827/827\u001b[0m \u001b[32m━━━━━━━━━━━━━━━━━━━━\u001b[0m\u001b[37m\u001b[0m \u001b[1m5s\u001b[0m 5ms/step - accuracy: 0.9907 - loss: 0.0284 - val_accuracy: 0.9673 - val_loss: 0.1199\n",
      "Epoch 11/30\n",
      "\u001b[1m827/827\u001b[0m \u001b[32m━━━━━━━━━━━━━━━━━━━━\u001b[0m\u001b[37m\u001b[0m \u001b[1m4s\u001b[0m 5ms/step - accuracy: 0.9932 - loss: 0.0227 - val_accuracy: 0.9699 - val_loss: 0.1148\n",
      "Epoch 12/30\n",
      "\u001b[1m827/827\u001b[0m \u001b[32m━━━━━━━━━━━━━━━━━━━━\u001b[0m\u001b[37m\u001b[0m \u001b[1m6s\u001b[0m 6ms/step - accuracy: 0.9951 - loss: 0.0173 - val_accuracy: 0.9688 - val_loss: 0.1173\n",
      "Epoch 13/30\n",
      "\u001b[1m827/827\u001b[0m \u001b[32m━━━━━━━━━━━━━━━━━━━━\u001b[0m\u001b[37m\u001b[0m \u001b[1m5s\u001b[0m 6ms/step - accuracy: 0.9968 - loss: 0.0123 - val_accuracy: 0.9715 - val_loss: 0.1193\n",
      "Epoch 14/30\n",
      "\u001b[1m827/827\u001b[0m \u001b[32m━━━━━━━━━━━━━━━━━━━━\u001b[0m\u001b[37m\u001b[0m \u001b[1m5s\u001b[0m 5ms/step - accuracy: 0.9948 - loss: 0.0162 - val_accuracy: 0.9705 - val_loss: 0.1219\n",
      "Epoch 15/30\n",
      "\u001b[1m827/827\u001b[0m \u001b[32m━━━━━━━━━━━━━━━━━━━━\u001b[0m\u001b[37m\u001b[0m \u001b[1m5s\u001b[0m 6ms/step - accuracy: 0.9972 - loss: 0.0099 - val_accuracy: 0.9701 - val_loss: 0.1330\n",
      "Epoch 16/30\n",
      "\u001b[1m827/827\u001b[0m \u001b[32m━━━━━━━━━━━━━━━━━━━━\u001b[0m\u001b[37m\u001b[0m \u001b[1m5s\u001b[0m 6ms/step - accuracy: 0.9957 - loss: 0.0126 - val_accuracy: 0.9724 - val_loss: 0.1371\n",
      "Epoch 17/30\n",
      "\u001b[1m827/827\u001b[0m \u001b[32m━━━━━━━━━━━━━━━━━━━━\u001b[0m\u001b[37m\u001b[0m \u001b[1m5s\u001b[0m 6ms/step - accuracy: 0.9978 - loss: 0.0075 - val_accuracy: 0.9708 - val_loss: 0.1434\n",
      "Epoch 18/30\n",
      "\u001b[1m827/827\u001b[0m \u001b[32m━━━━━━━━━━━━━━━━━━━━\u001b[0m\u001b[37m\u001b[0m \u001b[1m5s\u001b[0m 6ms/step - accuracy: 0.9975 - loss: 0.0070 - val_accuracy: 0.9706 - val_loss: 0.1366\n",
      "Epoch 19/30\n",
      "\u001b[1m827/827\u001b[0m \u001b[32m━━━━━━━━━━━━━━━━━━━━\u001b[0m\u001b[37m\u001b[0m \u001b[1m5s\u001b[0m 6ms/step - accuracy: 0.9982 - loss: 0.0056 - val_accuracy: 0.9678 - val_loss: 0.1446\n",
      "Epoch 20/30\n",
      "\u001b[1m827/827\u001b[0m \u001b[32m━━━━━━━━━━━━━━━━━━━━\u001b[0m\u001b[37m\u001b[0m \u001b[1m5s\u001b[0m 6ms/step - accuracy: 0.9984 - loss: 0.0060 - val_accuracy: 0.9705 - val_loss: 0.1481\n",
      "Epoch 21/30\n",
      "\u001b[1m827/827\u001b[0m \u001b[32m━━━━━━━━━━━━━━━━━━━━\u001b[0m\u001b[37m\u001b[0m \u001b[1m4s\u001b[0m 5ms/step - accuracy: 0.9979 - loss: 0.0063 - val_accuracy: 0.9701 - val_loss: 0.1499\n",
      "Epoch 22/30\n",
      "\u001b[1m827/827\u001b[0m \u001b[32m━━━━━━━━━━━━━━━━━━━━\u001b[0m\u001b[37m\u001b[0m \u001b[1m5s\u001b[0m 6ms/step - accuracy: 0.9978 - loss: 0.0070 - val_accuracy: 0.9707 - val_loss: 0.1549\n",
      "Epoch 23/30\n",
      "\u001b[1m827/827\u001b[0m \u001b[32m━━━━━━━━━━━━━━━━━━━━\u001b[0m\u001b[37m\u001b[0m \u001b[1m4s\u001b[0m 5ms/step - accuracy: 0.9989 - loss: 0.0038 - val_accuracy: 0.9675 - val_loss: 0.1660\n",
      "Epoch 24/30\n",
      "\u001b[1m827/827\u001b[0m \u001b[32m━━━━━━━━━━━━━━━━━━━━\u001b[0m\u001b[37m\u001b[0m \u001b[1m5s\u001b[0m 6ms/step - accuracy: 0.9977 - loss: 0.0073 - val_accuracy: 0.9708 - val_loss: 0.1555\n",
      "Epoch 25/30\n",
      "\u001b[1m827/827\u001b[0m \u001b[32m━━━━━━━━━━━━━━━━━━━━\u001b[0m\u001b[37m\u001b[0m \u001b[1m5s\u001b[0m 6ms/step - accuracy: 0.9990 - loss: 0.0033 - val_accuracy: 0.9681 - val_loss: 0.1738\n",
      "Epoch 26/30\n",
      "\u001b[1m827/827\u001b[0m \u001b[32m━━━━━━━━━━━━━━━━━━━━\u001b[0m\u001b[37m\u001b[0m \u001b[1m4s\u001b[0m 5ms/step - accuracy: 0.9973 - loss: 0.0071 - val_accuracy: 0.9710 - val_loss: 0.1586\n",
      "Epoch 27/30\n",
      "\u001b[1m827/827\u001b[0m \u001b[32m━━━━━━━━━━━━━━━━━━━━\u001b[0m\u001b[37m\u001b[0m \u001b[1m5s\u001b[0m 6ms/step - accuracy: 1.0000 - loss: 6.6958e-04 - val_accuracy: 0.9721 - val_loss: 0.1721\n",
      "Epoch 28/30\n",
      "\u001b[1m827/827\u001b[0m \u001b[32m━━━━━━━━━━━━━━━━━━━━\u001b[0m\u001b[37m\u001b[0m \u001b[1m4s\u001b[0m 5ms/step - accuracy: 0.9978 - loss: 0.0070 - val_accuracy: 0.9698 - val_loss: 0.1736\n",
      "Epoch 29/30\n",
      "\u001b[1m827/827\u001b[0m \u001b[32m━━━━━━━━━━━━━━━━━━━━\u001b[0m\u001b[37m\u001b[0m \u001b[1m5s\u001b[0m 6ms/step - accuracy: 0.9985 - loss: 0.0042 - val_accuracy: 0.9715 - val_loss: 0.1613\n",
      "Epoch 30/30\n",
      "\u001b[1m827/827\u001b[0m \u001b[32m━━━━━━━━━━━━━━━━━━━━\u001b[0m\u001b[37m\u001b[0m \u001b[1m5s\u001b[0m 6ms/step - accuracy: 1.0000 - loss: 6.9205e-04 - val_accuracy: 0.9735 - val_loss: 0.1620\n"
     ]
    }
   ],
   "source": [
    "model = tf.keras.models.Sequential()\n",
    " \n",
    "model.add(tf.keras.layers.Flatten(input_shape=(784, )))\n",
    "\n",
    "model.add(tf.keras.layers.Dense(128,activation=tf.nn.relu))\n",
    "model.add(tf.keras.layers.Dense(128,activation=tf.nn.relu))\n",
    "model.add(tf.keras.layers.Dense(10,activation=tf.nn.softmax))\n",
    " \n",
    "model.compile(optimizer='adam',\n",
    "              loss='sparse_categorical_crossentropy',\n",
    "              metrics=['accuracy']\n",
    "              )\n",
    "history = model.fit(x_train,y_train,validation_split = 0.3,epochs=30)"
   ]
  },
  {
   "cell_type": "code",
   "execution_count": 14,
   "id": "adba005a",
   "metadata": {
    "execution": {
     "iopub.execute_input": "2024-04-24T17:34:43.421129Z",
     "iopub.status.busy": "2024-04-24T17:34:43.419939Z",
     "iopub.status.idle": "2024-04-24T17:34:43.447991Z",
     "shell.execute_reply": "2024-04-24T17:34:43.446658Z"
    },
    "papermill": {
     "duration": 0.266113,
     "end_time": "2024-04-24T17:34:43.450614",
     "exception": false,
     "start_time": "2024-04-24T17:34:43.184501",
     "status": "completed"
    },
    "tags": []
   },
   "outputs": [
    {
     "data": {
      "text/html": [
       "<pre style=\"white-space:pre;overflow-x:auto;line-height:normal;font-family:Menlo,'DejaVu Sans Mono',consolas,'Courier New',monospace\"><span style=\"font-weight: bold\">Model: \"sequential\"</span>\n",
       "</pre>\n"
      ],
      "text/plain": [
       "\u001b[1mModel: \"sequential\"\u001b[0m\n"
      ]
     },
     "metadata": {},
     "output_type": "display_data"
    },
    {
     "data": {
      "text/html": [
       "<pre style=\"white-space:pre;overflow-x:auto;line-height:normal;font-family:Menlo,'DejaVu Sans Mono',consolas,'Courier New',monospace\">┏━━━━━━━━━━━━━━━━━━━━━━━━━━━━━━━━━┳━━━━━━━━━━━━━━━━━━━━━━━━┳━━━━━━━━━━━━━━━┓\n",
       "┃<span style=\"font-weight: bold\"> Layer (type)                    </span>┃<span style=\"font-weight: bold\"> Output Shape           </span>┃<span style=\"font-weight: bold\">       Param # </span>┃\n",
       "┡━━━━━━━━━━━━━━━━━━━━━━━━━━━━━━━━━╇━━━━━━━━━━━━━━━━━━━━━━━━╇━━━━━━━━━━━━━━━┩\n",
       "│ flatten (<span style=\"color: #0087ff; text-decoration-color: #0087ff\">Flatten</span>)               │ (<span style=\"color: #00d7ff; text-decoration-color: #00d7ff\">None</span>, <span style=\"color: #00af00; text-decoration-color: #00af00\">784</span>)            │             <span style=\"color: #00af00; text-decoration-color: #00af00\">0</span> │\n",
       "├─────────────────────────────────┼────────────────────────┼───────────────┤\n",
       "│ dense (<span style=\"color: #0087ff; text-decoration-color: #0087ff\">Dense</span>)                   │ (<span style=\"color: #00d7ff; text-decoration-color: #00d7ff\">None</span>, <span style=\"color: #00af00; text-decoration-color: #00af00\">128</span>)            │       <span style=\"color: #00af00; text-decoration-color: #00af00\">100,480</span> │\n",
       "├─────────────────────────────────┼────────────────────────┼───────────────┤\n",
       "│ dense_1 (<span style=\"color: #0087ff; text-decoration-color: #0087ff\">Dense</span>)                 │ (<span style=\"color: #00d7ff; text-decoration-color: #00d7ff\">None</span>, <span style=\"color: #00af00; text-decoration-color: #00af00\">128</span>)            │        <span style=\"color: #00af00; text-decoration-color: #00af00\">16,512</span> │\n",
       "├─────────────────────────────────┼────────────────────────┼───────────────┤\n",
       "│ dense_2 (<span style=\"color: #0087ff; text-decoration-color: #0087ff\">Dense</span>)                 │ (<span style=\"color: #00d7ff; text-decoration-color: #00d7ff\">None</span>, <span style=\"color: #00af00; text-decoration-color: #00af00\">10</span>)             │         <span style=\"color: #00af00; text-decoration-color: #00af00\">1,290</span> │\n",
       "└─────────────────────────────────┴────────────────────────┴───────────────┘\n",
       "</pre>\n"
      ],
      "text/plain": [
       "┏━━━━━━━━━━━━━━━━━━━━━━━━━━━━━━━━━┳━━━━━━━━━━━━━━━━━━━━━━━━┳━━━━━━━━━━━━━━━┓\n",
       "┃\u001b[1m \u001b[0m\u001b[1mLayer (type)                   \u001b[0m\u001b[1m \u001b[0m┃\u001b[1m \u001b[0m\u001b[1mOutput Shape          \u001b[0m\u001b[1m \u001b[0m┃\u001b[1m \u001b[0m\u001b[1m      Param #\u001b[0m\u001b[1m \u001b[0m┃\n",
       "┡━━━━━━━━━━━━━━━━━━━━━━━━━━━━━━━━━╇━━━━━━━━━━━━━━━━━━━━━━━━╇━━━━━━━━━━━━━━━┩\n",
       "│ flatten (\u001b[38;5;33mFlatten\u001b[0m)               │ (\u001b[38;5;45mNone\u001b[0m, \u001b[38;5;34m784\u001b[0m)            │             \u001b[38;5;34m0\u001b[0m │\n",
       "├─────────────────────────────────┼────────────────────────┼───────────────┤\n",
       "│ dense (\u001b[38;5;33mDense\u001b[0m)                   │ (\u001b[38;5;45mNone\u001b[0m, \u001b[38;5;34m128\u001b[0m)            │       \u001b[38;5;34m100,480\u001b[0m │\n",
       "├─────────────────────────────────┼────────────────────────┼───────────────┤\n",
       "│ dense_1 (\u001b[38;5;33mDense\u001b[0m)                 │ (\u001b[38;5;45mNone\u001b[0m, \u001b[38;5;34m128\u001b[0m)            │        \u001b[38;5;34m16,512\u001b[0m │\n",
       "├─────────────────────────────────┼────────────────────────┼───────────────┤\n",
       "│ dense_2 (\u001b[38;5;33mDense\u001b[0m)                 │ (\u001b[38;5;45mNone\u001b[0m, \u001b[38;5;34m10\u001b[0m)             │         \u001b[38;5;34m1,290\u001b[0m │\n",
       "└─────────────────────────────────┴────────────────────────┴───────────────┘\n"
      ]
     },
     "metadata": {},
     "output_type": "display_data"
    },
    {
     "data": {
      "text/html": [
       "<pre style=\"white-space:pre;overflow-x:auto;line-height:normal;font-family:Menlo,'DejaVu Sans Mono',consolas,'Courier New',monospace\"><span style=\"font-weight: bold\"> Total params: </span><span style=\"color: #00af00; text-decoration-color: #00af00\">354,848</span> (1.35 MB)\n",
       "</pre>\n"
      ],
      "text/plain": [
       "\u001b[1m Total params: \u001b[0m\u001b[38;5;34m354,848\u001b[0m (1.35 MB)\n"
      ]
     },
     "metadata": {},
     "output_type": "display_data"
    },
    {
     "data": {
      "text/html": [
       "<pre style=\"white-space:pre;overflow-x:auto;line-height:normal;font-family:Menlo,'DejaVu Sans Mono',consolas,'Courier New',monospace\"><span style=\"font-weight: bold\"> Trainable params: </span><span style=\"color: #00af00; text-decoration-color: #00af00\">118,282</span> (462.04 KB)\n",
       "</pre>\n"
      ],
      "text/plain": [
       "\u001b[1m Trainable params: \u001b[0m\u001b[38;5;34m118,282\u001b[0m (462.04 KB)\n"
      ]
     },
     "metadata": {},
     "output_type": "display_data"
    },
    {
     "data": {
      "text/html": [
       "<pre style=\"white-space:pre;overflow-x:auto;line-height:normal;font-family:Menlo,'DejaVu Sans Mono',consolas,'Courier New',monospace\"><span style=\"font-weight: bold\"> Non-trainable params: </span><span style=\"color: #00af00; text-decoration-color: #00af00\">0</span> (0.00 B)\n",
       "</pre>\n"
      ],
      "text/plain": [
       "\u001b[1m Non-trainable params: \u001b[0m\u001b[38;5;34m0\u001b[0m (0.00 B)\n"
      ]
     },
     "metadata": {},
     "output_type": "display_data"
    },
    {
     "data": {
      "text/html": [
       "<pre style=\"white-space:pre;overflow-x:auto;line-height:normal;font-family:Menlo,'DejaVu Sans Mono',consolas,'Courier New',monospace\"><span style=\"font-weight: bold\"> Optimizer params: </span><span style=\"color: #00af00; text-decoration-color: #00af00\">236,566</span> (924.09 KB)\n",
       "</pre>\n"
      ],
      "text/plain": [
       "\u001b[1m Optimizer params: \u001b[0m\u001b[38;5;34m236,566\u001b[0m (924.09 KB)\n"
      ]
     },
     "metadata": {},
     "output_type": "display_data"
    }
   ],
   "source": [
    "model.summary()"
   ]
  },
  {
   "cell_type": "markdown",
   "id": "8c4b9db6",
   "metadata": {
    "papermill": {
     "duration": 0.233636,
     "end_time": "2024-04-24T17:34:43.922515",
     "exception": false,
     "start_time": "2024-04-24T17:34:43.688879",
     "status": "completed"
    },
    "tags": []
   },
   "source": [
    "# 4-Model Evaluation"
   ]
  },
  {
   "cell_type": "code",
   "execution_count": 15,
   "id": "d8eae2b1",
   "metadata": {
    "execution": {
     "iopub.execute_input": "2024-04-24T17:34:44.424078Z",
     "iopub.status.busy": "2024-04-24T17:34:44.423612Z",
     "iopub.status.idle": "2024-04-24T17:34:44.718434Z",
     "shell.execute_reply": "2024-04-24T17:34:44.716779Z"
    },
    "papermill": {
     "duration": 0.558826,
     "end_time": "2024-04-24T17:34:44.721423",
     "exception": false,
     "start_time": "2024-04-24T17:34:44.162597",
     "status": "completed"
    },
    "tags": []
   },
   "outputs": [
    {
     "data": {
      "image/png": "[encoded data removed]",
      "text/plain": [
       "<Figure size 640x480 with 1 Axes>"
      ]
     },
     "metadata": {},
     "output_type": "display_data"
    }
   ],
   "source": [
    "# Accuracy\n",
    "\n",
    "plt.plot(history.history['accuracy'])\n",
    "plt.plot(history.history['val_accuracy'])\n",
    "plt.title('model accuracy')\n",
    "plt.ylabel('loss')\n",
    "plt.xlabel('epoch')\n",
    "plt.legend(['train','val'], loc='upper left')\n",
    "plt.show()"
   ]
  },
  {
   "cell_type": "code",
   "execution_count": 16,
   "id": "2ba8ff33",
   "metadata": {
    "execution": {
     "iopub.execute_input": "2024-04-24T17:34:45.206914Z",
     "iopub.status.busy": "2024-04-24T17:34:45.205631Z",
     "iopub.status.idle": "2024-04-24T17:34:45.458200Z",
     "shell.execute_reply": "2024-04-24T17:34:45.456850Z"
    },
    "papermill": {
     "duration": 0.499044,
     "end_time": "2024-04-24T17:34:45.461158",
     "exception": false,
     "start_time": "2024-04-24T17:34:44.962114",
     "status": "completed"
    },
    "tags": []
   },
   "outputs": [
    {
     "data": {
      "image/png": "[encoded data removed]",
      "text/plain": [
       "<Figure size 640x480 with 1 Axes>"
      ]
     },
     "metadata": {},
     "output_type": "display_data"
    }
   ],
   "source": [
    "#  Loss\n",
    "\n",
    "plt.plot(history.history['loss'])\n",
    "plt.plot(history.history['val_loss'])\n",
    "plt.title('model losses')\n",
    "plt.ylabel('loss')\n",
    "plt.xlabel('epoch')\n",
    "plt.legend(['train','val'], loc='upper left')\n",
    "plt.show()"
   ]
  },
  {
   "cell_type": "markdown",
   "id": "6541dc64",
   "metadata": {
    "papermill": {
     "duration": 0.237356,
     "end_time": "2024-04-24T17:34:45.942840",
     "exception": false,
     "start_time": "2024-04-24T17:34:45.705484",
     "status": "completed"
    },
    "tags": []
   },
   "source": [
    "*   Train Evaluation"
   ]
  },
  {
   "cell_type": "code",
   "execution_count": 17,
   "id": "9eb5f33d",
   "metadata": {
    "execution": {
     "iopub.execute_input": "2024-04-24T17:34:46.419484Z",
     "iopub.status.busy": "2024-04-24T17:34:46.418966Z",
     "iopub.status.idle": "2024-04-24T17:34:46.425463Z",
     "shell.execute_reply": "2024-04-24T17:34:46.423967Z"
    },
    "papermill": {
     "duration": 0.247161,
     "end_time": "2024-04-24T17:34:46.428229",
     "exception": false,
     "start_time": "2024-04-24T17:34:46.181068",
     "status": "completed"
    },
    "tags": []
   },
   "outputs": [],
   "source": [
    "from sklearn.metrics import ConfusionMatrixDisplay \n",
    "from sklearn import metrics"
   ]
  },
  {
   "cell_type": "code",
   "execution_count": 18,
   "id": "86ffbdbc",
   "metadata": {
    "execution": {
     "iopub.execute_input": "2024-04-24T17:34:46.918746Z",
     "iopub.status.busy": "2024-04-24T17:34:46.917890Z",
     "iopub.status.idle": "2024-04-24T17:34:50.011197Z",
     "shell.execute_reply": "2024-04-24T17:34:50.009251Z"
    },
    "papermill": {
     "duration": 3.338794,
     "end_time": "2024-04-24T17:34:50.014476",
     "exception": false,
     "start_time": "2024-04-24T17:34:46.675682",
     "status": "completed"
    },
    "tags": []
   },
   "outputs": [
    {
     "name": "stdout",
     "output_type": "stream",
     "text": [
      "\u001b[1m1182/1182\u001b[0m \u001b[32m━━━━━━━━━━━━━━━━━━━━\u001b[0m\u001b[37m\u001b[0m \u001b[1m2s\u001b[0m 2ms/step\n",
      "Classification report for model <Sequential name=sequential, built=True>:\n",
      "              precision    recall  f1-score   support\n",
      "\n",
      "           0       0.99      1.00      1.00      3724\n",
      "           1       0.99      1.00      1.00      4213\n",
      "           2       0.99      0.99      0.99      3757\n",
      "           3       0.99      0.99      0.99      3845\n",
      "           4       0.99      0.99      0.99      3675\n",
      "           5       0.99      0.99      0.99      3456\n",
      "           6       0.99      1.00      0.99      3735\n",
      "           7       0.99      0.99      0.99      3963\n",
      "           8       0.99      0.99      0.99      3660\n",
      "           9       0.99      0.99      0.99      3772\n",
      "\n",
      "    accuracy                           0.99     37800\n",
      "   macro avg       0.99      0.99      0.99     37800\n",
      "weighted avg       0.99      0.99      0.99     37800\n",
      "\n",
      "\n"
     ]
    }
   ],
   "source": [
    "prediction_train = model.predict(x_train)\n",
    "\n",
    "print(\n",
    "    f\"Classification report for model {model}:\\n\"\n",
    "    f\"{metrics.classification_report(y_train, np.argmax(prediction_train, axis=1))}\\n\"\n",
    ")"
   ]
  },
  {
   "cell_type": "code",
   "execution_count": 19,
   "id": "591c96dd",
   "metadata": {
    "execution": {
     "iopub.execute_input": "2024-04-24T17:34:50.513779Z",
     "iopub.status.busy": "2024-04-24T17:34:50.512970Z",
     "iopub.status.idle": "2024-04-24T17:34:51.081171Z",
     "shell.execute_reply": "2024-04-24T17:34:51.079666Z"
    },
    "papermill": {
     "duration": 0.82321,
     "end_time": "2024-04-24T17:34:51.084102",
     "exception": false,
     "start_time": "2024-04-24T17:34:50.260892",
     "status": "completed"
    },
    "tags": []
   },
   "outputs": [
    {
     "data": {
      "image/png": "[encoded data removed]",
      "text/plain": [
       "<Figure size 640x480 with 2 Axes>"
      ]
     },
     "metadata": {},
     "output_type": "display_data"
    }
   ],
   "source": [
    "ConfusionMatrixDisplay.from_predictions(y_train,np.argmax(prediction_train, axis=1)) \n",
    "# for showing percentage ---> normalize = \"true\",values_format = \".0%\")\n",
    "plt.show()\n"
   ]
  },
  {
   "cell_type": "markdown",
   "id": "3a810877",
   "metadata": {
    "papermill": {
     "duration": 0.352843,
     "end_time": "2024-04-24T17:34:51.687409",
     "exception": false,
     "start_time": "2024-04-24T17:34:51.334566",
     "status": "completed"
    },
    "tags": []
   },
   "source": [
    "* Test Evaluation"
   ]
  },
  {
   "cell_type": "code",
   "execution_count": 20,
   "id": "09797a19",
   "metadata": {
    "execution": {
     "iopub.execute_input": "2024-04-24T17:34:52.194850Z",
     "iopub.status.busy": "2024-04-24T17:34:52.194339Z",
     "iopub.status.idle": "2024-04-24T17:34:52.610840Z",
     "shell.execute_reply": "2024-04-24T17:34:52.609008Z"
    },
    "papermill": {
     "duration": 0.675168,
     "end_time": "2024-04-24T17:34:52.614466",
     "exception": false,
     "start_time": "2024-04-24T17:34:51.939298",
     "status": "completed"
    },
    "tags": []
   },
   "outputs": [
    {
     "name": "stdout",
     "output_type": "stream",
     "text": [
      "\u001b[1m132/132\u001b[0m \u001b[32m━━━━━━━━━━━━━━━━━━━━\u001b[0m\u001b[37m\u001b[0m \u001b[1m0s\u001b[0m 2ms/step - accuracy: 0.9729 - loss: 0.1982\n"
     ]
    }
   ],
   "source": [
    "val_loss,val_acc = model.evaluate(x_test,y_test)"
   ]
  },
  {
   "cell_type": "code",
   "execution_count": 21,
   "id": "572b4b9f",
   "metadata": {
    "execution": {
     "iopub.execute_input": "2024-04-24T17:34:53.107605Z",
     "iopub.status.busy": "2024-04-24T17:34:53.107136Z",
     "iopub.status.idle": "2024-04-24T17:34:53.532455Z",
     "shell.execute_reply": "2024-04-24T17:34:53.529470Z"
    },
    "papermill": {
     "duration": 0.676043,
     "end_time": "2024-04-24T17:34:53.536147",
     "exception": false,
     "start_time": "2024-04-24T17:34:52.860104",
     "status": "completed"
    },
    "tags": []
   },
   "outputs": [
    {
     "name": "stdout",
     "output_type": "stream",
     "text": [
      "\u001b[1m132/132\u001b[0m \u001b[32m━━━━━━━━━━━━━━━━━━━━\u001b[0m\u001b[37m\u001b[0m \u001b[1m0s\u001b[0m 2ms/step\n",
      "Classification report for model <Sequential name=sequential, built=True>:\n",
      "              precision    recall  f1-score   support\n",
      "\n",
      "           0       0.99      0.99      0.99       408\n",
      "           1       0.98      0.99      0.99       471\n",
      "           2       0.98      0.97      0.97       420\n",
      "           3       0.97      0.97      0.97       506\n",
      "           4       0.98      0.96      0.97       397\n",
      "           5       0.96      0.96      0.96       339\n",
      "           6       0.97      0.98      0.98       402\n",
      "           7       0.97      0.97      0.97       438\n",
      "           8       0.96      0.96      0.96       403\n",
      "           9       0.96      0.98      0.97       416\n",
      "\n",
      "    accuracy                           0.97      4200\n",
      "   macro avg       0.97      0.97      0.97      4200\n",
      "weighted avg       0.97      0.97      0.97      4200\n",
      "\n",
      "\n"
     ]
    }
   ],
   "source": [
    "prediction_test = model.predict(x_test)\n",
    "\n",
    "print(\n",
    "    f\"Classification report for model {model}:\\n\"\n",
    "    f\"{metrics.classification_report(y_test, np.argmax(prediction_test, axis=1))}\\n\"\n",
    ")"
   ]
  },
  {
   "cell_type": "code",
   "execution_count": 22,
   "id": "174d260f",
   "metadata": {
    "execution": {
     "iopub.execute_input": "2024-04-24T17:34:54.029917Z",
     "iopub.status.busy": "2024-04-24T17:34:54.029498Z",
     "iopub.status.idle": "2024-04-24T17:34:54.615981Z",
     "shell.execute_reply": "2024-04-24T17:34:54.614903Z"
    },
    "papermill": {
     "duration": 0.837141,
     "end_time": "2024-04-24T17:34:54.619069",
     "exception": false,
     "start_time": "2024-04-24T17:34:53.781928",
     "status": "completed"
    },
    "tags": []
   },
   "outputs": [
    {
     "data": {
      "image/png": "[encoded data removed]",
      "text/plain": [
       "<Figure size 640x480 with 2 Axes>"
      ]
     },
     "metadata": {},
     "output_type": "display_data"
    }
   ],
   "source": [
    "ConfusionMatrixDisplay.from_predictions(y_test,np.argmax(prediction_test, axis=1)) \n",
    "plt.show()\n"
   ]
  },
  {
   "cell_type": "markdown",
   "id": "9e2196cb",
   "metadata": {
    "papermill": {
     "duration": 0.249941,
     "end_time": "2024-04-24T17:34:55.118635",
     "exception": false,
     "start_time": "2024-04-24T17:34:54.868694",
     "status": "completed"
    },
    "tags": []
   },
   "source": [
    "# 5-Submission"
   ]
  },
  {
   "cell_type": "code",
   "execution_count": 23,
   "id": "fe72b2ea",
   "metadata": {
    "execution": {
     "iopub.execute_input": "2024-04-24T17:34:55.618057Z",
     "iopub.status.busy": "2024-04-24T17:34:55.617596Z",
     "iopub.status.idle": "2024-04-24T17:34:58.694045Z",
     "shell.execute_reply": "2024-04-24T17:34:58.692454Z"
    },
    "papermill": {
     "duration": 3.328177,
     "end_time": "2024-04-24T17:34:58.697002",
     "exception": false,
     "start_time": "2024-04-24T17:34:55.368825",
     "status": "completed"
    },
    "tags": []
   },
   "outputs": [],
   "source": [
    "test = pd.read_csv('/kaggle/input/digit-recognizer/test.csv')\n",
    "test = tf.keras.utils.normalize(test,axis=1)"
   ]
  },
  {
   "cell_type": "code",
   "execution_count": 24,
   "id": "c4085776",
   "metadata": {
    "execution": {
     "iopub.execute_input": "2024-04-24T17:34:59.189130Z",
     "iopub.status.busy": "2024-04-24T17:34:59.188686Z",
     "iopub.status.idle": "2024-04-24T17:35:01.284103Z",
     "shell.execute_reply": "2024-04-24T17:35:01.282431Z"
    },
    "papermill": {
     "duration": 2.345748,
     "end_time": "2024-04-24T17:35:01.287397",
     "exception": false,
     "start_time": "2024-04-24T17:34:58.941649",
     "status": "completed"
    },
    "tags": []
   },
   "outputs": [
    {
     "name": "stdout",
     "output_type": "stream",
     "text": [
      "\u001b[1m875/875\u001b[0m \u001b[32m━━━━━━━━━━━━━━━━━━━━\u001b[0m\u001b[37m\u001b[0m \u001b[1m2s\u001b[0m 2ms/step\n"
     ]
    }
   ],
   "source": [
    "Final_predictions = model.predict(test)"
   ]
  },
  {
   "cell_type": "code",
   "execution_count": 25,
   "id": "03da2b5d",
   "metadata": {
    "execution": {
     "iopub.execute_input": "2024-04-24T17:35:01.788068Z",
     "iopub.status.busy": "2024-04-24T17:35:01.787591Z",
     "iopub.status.idle": "2024-04-24T17:35:01.828485Z",
     "shell.execute_reply": "2024-04-24T17:35:01.827010Z"
    },
    "papermill": {
     "duration": 0.296735,
     "end_time": "2024-04-24T17:35:01.832047",
     "exception": false,
     "start_time": "2024-04-24T17:35:01.535312",
     "status": "completed"
    },
    "tags": []
   },
   "outputs": [],
   "source": [
    "submission = pd.read_csv(\"/kaggle/input/digit-recognizer/sample_submission.csv\")\n",
    "submission[\"Label\"] = np.argmax(Final_predictions , axis=1)"
   ]
  },
  {
   "cell_type": "code",
   "execution_count": 26,
   "id": "8a225ddb",
   "metadata": {
    "execution": {
     "iopub.execute_input": "2024-04-24T17:35:02.437313Z",
     "iopub.status.busy": "2024-04-24T17:35:02.436829Z",
     "iopub.status.idle": "2024-04-24T17:35:02.452087Z",
     "shell.execute_reply": "2024-04-24T17:35:02.450659Z"
    },
    "papermill": {
     "duration": 0.269706,
     "end_time": "2024-04-24T17:35:02.455616",
     "exception": false,
     "start_time": "2024-04-24T17:35:02.185910",
     "status": "completed"
    },
    "tags": []
   },
   "outputs": [
    {
     "data": {
      "text/html": [
       "<div>\n",
       "<style scoped>\n",
       "    .dataframe tbody tr th:only-of-type {\n",
       "        vertical-align: middle;\n",
       "    }\n",
       "\n",
       "    .dataframe tbody tr th {\n",
       "        vertical-align: top;\n",
       "    }\n",
       "\n",
       "    .dataframe thead th {\n",
       "        text-align: right;\n",
       "    }\n",
       "</style>\n",
       "<table border=\"1\" class=\"dataframe\">\n",
       "  <thead>\n",
       "    <tr style=\"text-align: right;\">\n",
       "      <th></th>\n",
       "      <th>ImageId</th>\n",
       "      <th>Label</th>\n",
       "    </tr>\n",
       "  </thead>\n",
       "  <tbody>\n",
       "    <tr>\n",
       "      <th>0</th>\n",
       "      <td>1</td>\n",
       "      <td>2</td>\n",
       "    </tr>\n",
       "    <tr>\n",
       "      <th>1</th>\n",
       "      <td>2</td>\n",
       "      <td>0</td>\n",
       "    </tr>\n",
       "    <tr>\n",
       "      <th>2</th>\n",
       "      <td>3</td>\n",
       "      <td>9</td>\n",
       "    </tr>\n",
       "    <tr>\n",
       "      <th>3</th>\n",
       "      <td>4</td>\n",
       "      <td>9</td>\n",
       "    </tr>\n",
       "    <tr>\n",
       "      <th>4</th>\n",
       "      <td>5</td>\n",
       "      <td>3</td>\n",
       "    </tr>\n",
       "  </tbody>\n",
       "</table>\n",
       "</div>"
      ],
      "text/plain": [
       "   ImageId  Label\n",
       "0        1      2\n",
       "1        2      0\n",
       "2        3      9\n",
       "3        4      9\n",
       "4        5      3"
      ]
     },
     "execution_count": 26,
     "metadata": {},
     "output_type": "execute_result"
    }
   ],
   "source": [
    "submission.head()"
   ]
  },
  {
   "cell_type": "code",
   "execution_count": 27,
   "id": "497ee297",
   "metadata": {
    "execution": {
     "iopub.execute_input": "2024-04-24T17:35:02.961735Z",
     "iopub.status.busy": "2024-04-24T17:35:02.961257Z",
     "iopub.status.idle": "2024-04-24T17:35:03.012533Z",
     "shell.execute_reply": "2024-04-24T17:35:03.011102Z"
    },
    "papermill": {
     "duration": 0.30654,
     "end_time": "2024-04-24T17:35:03.015792",
     "exception": false,
     "start_time": "2024-04-24T17:35:02.709252",
     "status": "completed"
    },
    "tags": []
   },
   "outputs": [],
   "source": [
    "submission.to_csv(\"Final submission.csv\", index=False)"
   ]
  }
 ],
 "metadata": {
  "kaggle": {
   "accelerator": "none",
   "dataSources": [
    {
     "databundleVersionId": 861823,
     "sourceId": 3004,
     "sourceType": "competition"
    }
   ],
   "dockerImageVersionId": 30698,
   "isGpuEnabled": false,
   "isInternetEnabled": true,
   "language": "python",
   "sourceType": "notebook"
  },
  "kernelspec": {
   "display_name": "Python 3",
   "language": "python",
   "name": "python3"
  },
  "language_info": {
   "codemirror_mode": {
    "name": "ipython",
    "version": 3
   },
   "file_extension": ".py",
   "mimetype": "text/x-python",
   "name": "python",
   "nbconvert_exporter": "python",
   "pygments_lexer": "ipython3",
   "version": "3.10.13"
  },
  "papermill": {
   "default_parameters": {},
   "duration": 209.681272,
   "end_time": "2024-04-24T17:35:05.885853",
   "environment_variables": {},
   "exception": null,
   "input_path": "__notebook__.ipynb",
   "output_path": "__notebook__.ipynb",
   "parameters": {},
   "start_time": "2024-04-24T17:31:36.204581",
   "version": "2.5.0"
  }
 },
 "nbformat": 4,
 "nbformat_minor": 5
}
